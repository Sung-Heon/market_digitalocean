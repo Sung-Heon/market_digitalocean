{
 "cells": [
  {
   "cell_type": "markdown",
   "id": "6ff16ee8",
   "metadata": {},
   "source": [
    "# Basic Options (for Extended Experiment)"
   ]
  },
  {
   "cell_type": "code",
   "execution_count": 205,
   "id": "bd6c82db",
   "metadata": {},
   "outputs": [],
   "source": [
    "#raw = pd.read('./')  raw = 품종별 오늘 실제가격 & 예측가격\n",
    "day = 1 #2022-08-19부터 몇일이 지났는지=day"
   ]
  },
  {
   "cell_type": "markdown",
   "id": "4c6b2516",
   "metadata": {},
   "source": [
    "# Library Load"
   ]
  },
  {
   "cell_type": "code",
   "execution_count": 147,
   "id": "ad587842",
   "metadata": {},
   "outputs": [],
   "source": [
    "import pandas as pd\n",
    "import numpy as np\n",
    "from sklearn.metrics import precision_score\n",
    "from datetime import datetime, timedelta"
   ]
  },
  {
   "cell_type": "markdown",
   "id": "5ef98865",
   "metadata": {},
   "source": [
    "# 과거 30일치 정확도 산출"
   ]
  },
  {
   "cell_type": "code",
   "execution_count": 156,
   "id": "adf79d56",
   "metadata": {},
   "outputs": [],
   "source": [
    "plot_data = pd.read_excel('./30일치예측_2022_7_12.xlsx')\n",
    "\n",
    "plot_data.set_index('DateTime',inplace=True)"
   ]
  },
  {
   "cell_type": "code",
   "execution_count": 204,
   "id": "5b2a782c",
   "metadata": {},
   "outputs": [],
   "source": [
    "def 매일정확도갱신(raw,day):\n",
    "    plot_data = pd.concat([plot_data,raw],axis=0)\n",
    "    plot_data = plot_data.iloc[day:,:]\n",
    "    return plot_data"
   ]
  },
  {
   "cell_type": "markdown",
   "id": "91b684e1",
   "metadata": {},
   "source": [
    "# 매일정확도갱신 함수를 사용해서 데이터 갱신해주기"
   ]
  },
  {
   "cell_type": "code",
   "execution_count": 206,
   "id": "1755e497",
   "metadata": {},
   "outputs": [],
   "source": [
    "# 매일정확도갱신(raw,i)"
   ]
  },
  {
   "cell_type": "markdown",
   "id": "e216d9e1",
   "metadata": {},
   "source": [
    "# 정확도 계산"
   ]
  },
  {
   "cell_type": "code",
   "execution_count": 157,
   "id": "fdd8a2ab",
   "metadata": {
    "scrolled": true
   },
   "outputs": [
    {
     "name": "stderr",
     "output_type": "stream",
     "text": [
      "C:\\Users\\user\\AppData\\Local\\Temp/ipykernel_35756/3292575869.py:8: SettingWithCopyWarning: \n",
      "A value is trying to be set on a copy of a slice from a DataFrame\n",
      "\n",
      "See the caveats in the documentation: https://pandas.pydata.org/pandas-docs/stable/user_guide/indexing.html#returning-a-view-versus-a-copy\n",
      "  plot_data[f'mean_7d_{name}'][i] = (sb.iloc[:,1][i]+sb.iloc[:,1][i+1]+sb.iloc[:,1][i+2]+sb.iloc[:,1][i+3]+sb.iloc[:,1][i+4]+sb.iloc[:,1][i+5]+sb.iloc[:,1][i+6])/7\n",
      "C:\\Users\\user\\AppData\\Local\\Temp/ipykernel_35756/3292575869.py:12: SettingWithCopyWarning: \n",
      "A value is trying to be set on a copy of a slice from a DataFrame\n",
      "\n",
      "See the caveats in the documentation: https://pandas.pydata.org/pandas-docs/stable/user_guide/indexing.html#returning-a-view-versus-a-copy\n",
      "  plot_data[f'updown_{name}'][i]=0\n",
      "C:\\Users\\user\\AppData\\Local\\Temp/ipykernel_35756/3292575869.py:10: SettingWithCopyWarning: \n",
      "A value is trying to be set on a copy of a slice from a DataFrame\n",
      "\n",
      "See the caveats in the documentation: https://pandas.pydata.org/pandas-docs/stable/user_guide/indexing.html#returning-a-view-versus-a-copy\n",
      "  plot_data[f'updown_{name}'][i] = 1\n",
      "C:\\Users\\user\\AppData\\Local\\Temp/ipykernel_35756/3292575869.py:16: SettingWithCopyWarning: \n",
      "A value is trying to be set on a copy of a slice from a DataFrame\n",
      "\n",
      "See the caveats in the documentation: https://pandas.pydata.org/pandas-docs/stable/user_guide/indexing.html#returning-a-view-versus-a-copy\n",
      "  plot_data[f'mean_7d_real_{name}'][i] = (sb.iloc[:,0][i]+sb.iloc[:,0][i+1]+sb.iloc[:,0][i+2]+sb.iloc[:,0][i+3]+sb.iloc[:,0][i+4]+sb.iloc[:,0][i+5]+sb.iloc[:,0][i+6])/7\n",
      "C:\\Users\\user\\AppData\\Local\\Temp/ipykernel_35756/3292575869.py:20: SettingWithCopyWarning: \n",
      "A value is trying to be set on a copy of a slice from a DataFrame\n",
      "\n",
      "See the caveats in the documentation: https://pandas.pydata.org/pandas-docs/stable/user_guide/indexing.html#returning-a-view-versus-a-copy\n",
      "  plot_data[f'updown_real_{name}'][i]=0\n",
      "C:\\Users\\user\\AppData\\Local\\Temp/ipykernel_35756/3292575869.py:18: SettingWithCopyWarning: \n",
      "A value is trying to be set on a copy of a slice from a DataFrame\n",
      "\n",
      "See the caveats in the documentation: https://pandas.pydata.org/pandas-docs/stable/user_guide/indexing.html#returning-a-view-versus-a-copy\n",
      "  plot_data[f'updown_real_{name}'][i] = 1\n"
     ]
    }
   ],
   "source": [
    "Final_precision=pd.DataFrame()\n",
    "for PDNAME in range(0,28):\n",
    "    name = plot_data.columns[PDNAME][:-7]\n",
    "    sb = plot_data[[f'{name}_acutal',f'{name}_convert']]\n",
    "    plot_data[f'updown_{name}']=0\n",
    "    plot_data[f'mean_7d_{name}']=0\n",
    "    for i in range(0,len(plot_data)-6):\n",
    "        plot_data[f'mean_7d_{name}'][i] = (sb.iloc[:,1][i]+sb.iloc[:,1][i+1]+sb.iloc[:,1][i+2]+sb.iloc[:,1][i+3]+sb.iloc[:,1][i+4]+sb.iloc[:,1][i+5]+sb.iloc[:,1][i+6])/7\n",
    "        if sb.iloc[:,1][i] >= plot_data[f'mean_7d_{name}'][i]:\n",
    "            plot_data[f'updown_{name}'][i] = 1\n",
    "        else:\n",
    "            plot_data[f'updown_{name}'][i]=0\n",
    "    plot_data[f'updown_real_{name}']=0\n",
    "    plot_data[f'mean_7d_real_{name}']=0\n",
    "    for i in range(0,len(plot_data)-6):\n",
    "        plot_data[f'mean_7d_real_{name}'][i] = (sb.iloc[:,0][i]+sb.iloc[:,0][i+1]+sb.iloc[:,0][i+2]+sb.iloc[:,0][i+3]+sb.iloc[:,0][i+4]+sb.iloc[:,0][i+5]+sb.iloc[:,0][i+6])/7\n",
    "        if sb.iloc[:,0][i] >= plot_data[f'mean_7d_real_{name}'][i]:\n",
    "            plot_data[f'updown_real_{name}'][i] = 1\n",
    "        else:\n",
    "            plot_data[f'updown_real_{name}'][i]=0\n",
    "    plot_data.drop([f'mean_7d_{name}',f'mean_7d_real_{name}'],axis=1,inplace=True)"
   ]
  },
  {
   "cell_type": "code",
   "execution_count": 158,
   "id": "5cc26392",
   "metadata": {},
   "outputs": [],
   "source": [
    "score = plot_data.iloc[:,-56:]"
   ]
  },
  {
   "cell_type": "code",
   "execution_count": 159,
   "id": "53946339",
   "metadata": {
    "scrolled": true
   },
   "outputs": [
    {
     "name": "stderr",
     "output_type": "stream",
     "text": [
      "C:\\ProgramData\\Anaconda3\\lib\\site-packages\\sklearn\\metrics\\_classification.py:1318: UndefinedMetricWarning: Precision is ill-defined and being set to 0.0 due to no predicted samples. Use `zero_division` parameter to control this behavior.\n",
      "  _warn_prf(average, modifier, msg_start, len(result))\n",
      "C:\\ProgramData\\Anaconda3\\lib\\site-packages\\sklearn\\metrics\\_classification.py:1318: UndefinedMetricWarning: Precision is ill-defined and being set to 0.0 due to no predicted samples. Use `zero_division` parameter to control this behavior.\n",
      "  _warn_prf(average, modifier, msg_start, len(result))\n",
      "C:\\ProgramData\\Anaconda3\\lib\\site-packages\\sklearn\\metrics\\_classification.py:1318: UndefinedMetricWarning: Precision is ill-defined and being set to 0.0 due to no predicted samples. Use `zero_division` parameter to control this behavior.\n",
      "  _warn_prf(average, modifier, msg_start, len(result))\n",
      "C:\\ProgramData\\Anaconda3\\lib\\site-packages\\sklearn\\metrics\\_classification.py:1318: UndefinedMetricWarning: Precision is ill-defined and being set to 0.0 due to no predicted samples. Use `zero_division` parameter to control this behavior.\n",
      "  _warn_prf(average, modifier, msg_start, len(result))\n",
      "C:\\ProgramData\\Anaconda3\\lib\\site-packages\\sklearn\\metrics\\_classification.py:1318: UndefinedMetricWarning: Precision is ill-defined and being set to 0.0 due to no predicted samples. Use `zero_division` parameter to control this behavior.\n",
      "  _warn_prf(average, modifier, msg_start, len(result))\n",
      "C:\\ProgramData\\Anaconda3\\lib\\site-packages\\sklearn\\metrics\\_classification.py:1318: UndefinedMetricWarning: Precision is ill-defined and being set to 0.0 due to no predicted samples. Use `zero_division` parameter to control this behavior.\n",
      "  _warn_prf(average, modifier, msg_start, len(result))\n",
      "C:\\ProgramData\\Anaconda3\\lib\\site-packages\\sklearn\\metrics\\_classification.py:1318: UndefinedMetricWarning: Precision is ill-defined and being set to 0.0 due to no predicted samples. Use `zero_division` parameter to control this behavior.\n",
      "  _warn_prf(average, modifier, msg_start, len(result))\n",
      "C:\\ProgramData\\Anaconda3\\lib\\site-packages\\sklearn\\metrics\\_classification.py:1318: UndefinedMetricWarning: Precision is ill-defined and being set to 0.0 due to no predicted samples. Use `zero_division` parameter to control this behavior.\n",
      "  _warn_prf(average, modifier, msg_start, len(result))\n",
      "C:\\ProgramData\\Anaconda3\\lib\\site-packages\\sklearn\\metrics\\_classification.py:1318: UndefinedMetricWarning: Precision is ill-defined and being set to 0.0 due to no predicted samples. Use `zero_division` parameter to control this behavior.\n",
      "  _warn_prf(average, modifier, msg_start, len(result))\n",
      "C:\\ProgramData\\Anaconda3\\lib\\site-packages\\sklearn\\metrics\\_classification.py:1318: UndefinedMetricWarning: Precision is ill-defined and being set to 0.0 due to no predicted samples. Use `zero_division` parameter to control this behavior.\n",
      "  _warn_prf(average, modifier, msg_start, len(result))\n",
      "C:\\ProgramData\\Anaconda3\\lib\\site-packages\\sklearn\\metrics\\_classification.py:1318: UndefinedMetricWarning: Precision is ill-defined and being set to 0.0 due to no predicted samples. Use `zero_division` parameter to control this behavior.\n",
      "  _warn_prf(average, modifier, msg_start, len(result))\n",
      "C:\\ProgramData\\Anaconda3\\lib\\site-packages\\sklearn\\metrics\\_classification.py:1318: UndefinedMetricWarning: Precision is ill-defined and being set to 0.0 due to no predicted samples. Use `zero_division` parameter to control this behavior.\n",
      "  _warn_prf(average, modifier, msg_start, len(result))\n"
     ]
    }
   ],
   "source": [
    "Final_score = pd.DataFrame()\n",
    "for PDNAME in range(0,28):\n",
    "    name = score.columns[PDNAME*2][7:]\n",
    "    precision=[]\n",
    "    for i  in range(7,37):\n",
    "        precision.append(precision_score(score[:i][f'updown_real_{name}'], score[:i][f'updown_{name}']))\n",
    "    Score = pd.DataFrame(precision,columns=[f'precision_{name}'])\n",
    "    Final_score = pd.concat([Final_score,Score],axis=1)"
   ]
  },
  {
   "cell_type": "code",
   "execution_count": 192,
   "id": "4f6dfe0c",
   "metadata": {},
   "outputs": [],
   "source": [
    "Final_score.to_excel('./30일치정확도.xlsx',index=True)\n",
    "\n",
    "Final_score.index = plot_data.iloc[6:-6].index\n",
    "\n",
    "time = Final.columns[-1]+timedelta(days=6)\n",
    "\n",
    "Final = pd.DataFrame(Final_score.mean(),columns=[f'{time}_평균정확도'])\n",
    "\n",
    "Final.to_excel('./오늘_평균정확도.xlsx',index=True)"
   ]
  }
 ],
 "metadata": {
  "kernelspec": {
   "display_name": "Python 3 (ipykernel)",
   "language": "python",
   "name": "python3"
  },
  "language_info": {
   "codemirror_mode": {
    "name": "ipython",
    "version": 3
   },
   "file_extension": ".py",
   "mimetype": "text/x-python",
   "name": "python",
   "nbconvert_exporter": "python",
   "pygments_lexer": "ipython3",
   "version": "3.9.7"
  }
 },
 "nbformat": 4,
 "nbformat_minor": 5
}
